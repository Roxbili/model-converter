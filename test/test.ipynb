{
 "cells": [
  {
   "cell_type": "code",
   "execution_count": 7,
   "metadata": {},
   "outputs": [],
   "source": [
    "import os, sys\n",
    "sys.path.append('../')\n",
    "import torch\n",
    "import torch.nn as nn\n",
    "from converter import Torch2TFLiteConverter"
   ]
  },
  {
   "cell_type": "code",
   "execution_count": 8,
   "metadata": {},
   "outputs": [],
   "source": [
    "def conv_nxn_bn(inp, oup, kernel_size=3, stride=1, groups=1):\n",
    "    return nn.Sequential(\n",
    "        nn.Conv2d(inp, oup, kernel_size, stride, padding=1, groups=groups, bias=False),\n",
    "        nn.BatchNorm2d(oup),\n",
    "        nn.SiLU()   # tflite中会显示Logistic，其实就是Sigmoid，在tflite的源码中可以找到这个Logistic.h文件\n",
    "    )\n",
    "\n",
    "class Model(nn.Module):\n",
    "    def __init__(self):\n",
    "        super(Model, self).__init__()\n",
    "        self.conv = conv_nxn_bn(3, 16)\n",
    "\n",
    "    def forward(self, x):\n",
    "        return self.conv(x)"
   ]
  },
  {
   "cell_type": "code",
   "execution_count": 9,
   "metadata": {},
   "outputs": [
    {
     "name": "stderr",
     "output_type": "stream",
     "text": [
      "INFO:root:Old temp directory removed\n",
      "INFO:root:Temp directory created at /tmp/model_converter/\n",
      "INFO:root:PyTorch model successfully loaded and mapped to CPU\n",
      "INFO:root:Sample input file path not specified, random data will be generated\n",
      "INFO:root:Sample input randomly generated\n",
      "INFO:root:Onnx model is saved to /tmp/model_converter/model.onnx\n",
      "WARNING:absl:Found untraced functions such as gen_tensor_dict while saving (showing 1 of 1). These functions will not be directly callable after loading.\n"
     ]
    },
    {
     "name": "stdout",
     "output_type": "stream",
     "text": [
      "INFO:tensorflow:Assets written to: /tmp/model_converter/tf_model/assets\n"
     ]
    },
    {
     "name": "stderr",
     "output_type": "stream",
     "text": [
      "INFO:tensorflow:Assets written to: /tmp/model_converter/tf_model/assets\n",
      "INFO:root:Tflite model is saved to model_float32.lite\n",
      "INFO:root:TFLite interpreter successfully loaded from, model_float32.lite\n",
      "INFO:root:MSE (Mean-Square-Error): 1.1007556314945768e-15\tMAE (Mean-Absolute-Error): 2.0235816577951482e-08\n",
      "INFO:root:Old temp directory removed\n",
      "INFO:root:Temp directory created at /tmp/model_converter/\n",
      "INFO:root:PyTorch model successfully loaded and mapped to CPU\n",
      "INFO:root:Sample input file path not specified, random data will be generated\n",
      "INFO:root:Sample input randomly generated\n",
      "INFO:root:Onnx model is saved to /tmp/model_converter/model.onnx\n",
      "WARNING:absl:Found untraced functions such as gen_tensor_dict while saving (showing 1 of 1). These functions will not be directly callable after loading.\n"
     ]
    },
    {
     "name": "stdout",
     "output_type": "stream",
     "text": [
      "INFO:tensorflow:Assets written to: /tmp/model_converter/tf_model/assets\n"
     ]
    },
    {
     "name": "stderr",
     "output_type": "stream",
     "text": [
      "INFO:tensorflow:Assets written to: /tmp/model_converter/tf_model/assets\n",
      "fully_quantize: 0, inference_type: 6, input_inference_type: 0, output_inference_type: 0\n",
      "INFO:root:Tflite model is saved to ./model_int8.lite\n",
      "INFO:root:TFLite interpreter successfully loaded from, ./model_int8.lite\n",
      "INFO:root:MSE (Mean-Square-Error): 7.4524177762214094e-06\tMAE (Mean-Absolute-Error): 0.0022050016559660435\n"
     ]
    }
   ],
   "source": [
    "model = Model()\n",
    "inputs = torch.rand(1, 3, 32, 32)\n",
    "model(inputs)\n",
    "\n",
    "torch.save(model, './model.pth')\n",
    "\n",
    "converter = Torch2TFLiteConverter('./model.pth', tflite_model_save_path='model_float32.lite', target_shape=(32,32,3))\n",
    "converter.convert()\n",
    "\n",
    "converter = Torch2TFLiteConverter('./model.pth', tflite_model_save_path='./model_int8.lite', target_shape=(32,32,3),\n",
    "                                representative_dataset=torch.randint(0, 255, (32,3,224,224)).float())\n",
    "\n",
    "converter.convert()"
   ]
  }
 ],
 "metadata": {
  "interpreter": {
   "hash": "93622b67620596c331ebfce089f665048b66a4f7ef0bb500e23e26bf99bbcf06"
  },
  "kernelspec": {
   "display_name": "Python 3.8.12 ('tiny')",
   "language": "python",
   "name": "python3"
  },
  "language_info": {
   "codemirror_mode": {
    "name": "ipython",
    "version": 3
   },
   "file_extension": ".py",
   "mimetype": "text/x-python",
   "name": "python",
   "nbconvert_exporter": "python",
   "pygments_lexer": "ipython3",
   "version": "3.8.12"
  },
  "orig_nbformat": 4
 },
 "nbformat": 4,
 "nbformat_minor": 2
}
